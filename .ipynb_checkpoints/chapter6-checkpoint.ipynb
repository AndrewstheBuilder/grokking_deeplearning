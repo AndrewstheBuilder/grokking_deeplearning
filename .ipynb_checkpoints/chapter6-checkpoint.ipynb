{
 "cells": [
  {
   "cell_type": "code",
   "execution_count": 1,
   "metadata": {},
   "outputs": [],
   "source": [
    "# my first deep neural network in Grokking Deep Learning\n",
    "import numpy as np\n",
    "np.random.seed(1)\n",
    "\n",
    "def relu(x):\n",
    "    return (x>0) * x\n",
    "\n",
    "alpha = 0.2\n",
    "hidden_size = 4\n",
    "streetlights = np.array([[1, 0, 1],\n",
    "                         [0, 1, 1],\n",
    "                         [0, 0, 1],\n",
    "                         [1, 1, 1]\n",
    "                        ])\n",
    "walk_vs_stop = np.array([[1, 1, 0, 0]]).T\n",
    "\n",
    "weights_0_1 = 2*np.random.random((3, hidden_size)) - 1\n",
    "weights_1_2 = 2*np.random.random((hidden_size, 1)) - 1\n",
    "\n",
    "layer_0 = streetlights[0]\n",
    "layer_1 = relu(np.dot(layer_0, weibghts_0_1))\n",
    "layer_2 = np.dot(layer_1, weights_1_2)"
   ]
  },
  {
   "cell_type": "code",
   "execution_count": 2,
   "metadata": {},
   "outputs": [
    {
     "name": "stdout",
     "output_type": "stream",
     "text": [
      "layer_2 [0.39194327]\n"
     ]
    }
   ],
   "source": [
    "print('layer_2',layer_2)"
   ]
  },
  {
   "cell_type": "code",
   "execution_count": 4,
   "metadata": {},
   "outputs": [
    {
     "name": "stdout",
     "output_type": "stream",
     "text": [
      "Error:0.6342311598444467\n",
      "Error:0.35838407676317513\n",
      "Error:0.0830183113303298\n",
      "Error:0.006467054957103705\n",
      "Error:0.0003292669000750734\n",
      "Error:1.5055622665134859e-05\n"
     ]
    }
   ],
   "source": [
    "# Deep Neural Network with back propagation\n",
    "# my first deep neural network in Grokking Deep Learning\n",
    "import numpy as np\n",
    "np.random.seed(1)\n",
    "\n",
    "def relu(x):\n",
    "    return (x>0) * x\n",
    "\n",
    "def relu2deriv(output):\n",
    "    # if output is greater than 0 return 1 otherwise return 0\n",
    "    return output > 0\n",
    "\n",
    "alpha = 0.2\n",
    "hidden_size = 4\n",
    "streetlights = np.array([[1, 0, 1],\n",
    "                         [0, 1, 1],\n",
    "                         [0, 0, 1],\n",
    "                         [1, 1, 1]\n",
    "                        ])\n",
    "walk_vs_stop = np.array([[1, 1, 0, 0]]).T\n",
    "\n",
    "weights_0_1 = 2*np.random.random((3, hidden_size)) - 1\n",
    "weights_1_2 = 2*np.random.random((hidden_size, 1)) - 1\n",
    "\n",
    "for iteration in range(60):\n",
    "    layer_2_error = 0\n",
    "    for i in range(len(streetlights)):\n",
    "        layer_0 = streetlights[i:i+1] # do this instead of arr[i] to return a list of one element\n",
    "        layer_1 = relu(np.dot(layer_0, weights_0_1))\n",
    "        layer_2 = np.dot(layer_1, weights_1_2)\n",
    "        \n",
    "        # why a sum here?\n",
    "        #print('layer_2 - walk_vs_stop[i:i+1]',layer_2 - walk_vs_stop[i:i+1])\n",
    "#         sum1 = (layer_2 - walk_vs_stop[i])**2\n",
    "#         sum2 = np.sum((layer_2 - walk_vs_stop[i:i+1])**2)\n",
    "#         if(sum1 != sum2):\n",
    "#             # I have no idea why he would chose to do [i:i+1] to convert the single element to a list\n",
    "#             # And then use np.sum to convert the single array element back to a single element\n",
    "#             print('sum1',np.sum((layer_2 - walk_vs_stop[i])**2))\n",
    "#             print('sum2', np.sum((layer_2 - walk_vs_stop[i:i+1])**2))\n",
    "        layer_2_error += np.sum((layer_2 - walk_vs_stop[i:i+1])**2)\n",
    "        \n",
    "        layer_2_delta = (walk_vs_stop[i:i+1] - layer_2) # 2. goal_pred - pred Why is delta calculation flipped here?\n",
    "        layer_1_delta = layer_2_delta.dot(weights_1_2.T)*relu2deriv(layer_1)\n",
    "        \n",
    "        # Weight adjusting\n",
    "        weights_1_2 += alpha * layer_1.T.dot(layer_2_delta) # input * delta\n",
    "        weights_0_1 += alpha * layer_0.T.dot(layer_1_delta) # input * delta\n",
    "        # 3. Why are we adding the adjustment to the weights??\n",
    "        \n",
    "    if(iteration%10 == 9):\n",
    "        print(\"Error:\"+str(layer_2_error))\n",
    "        \n",
    "# Answer to question 2 and 3 is\n",
    "# 2. layer_2_delta = (layer_2 - walk_vs_stop[i:i+1] ) # pred - goal_pred\n",
    "# 3.     weights_1_2 -= alpha * layer_1.T.dot(layer_2_delta) # input * delta\n",
    "#        weights_0_1 -= alpha * layer_0.T.dot(layer_1_delta) # input * delta\n",
    "# Adding these 3 changes to the lines will give the equivalent results"
   ]
  }
 ],
 "metadata": {
  "kernelspec": {
   "display_name": "Python 3",
   "language": "python",
   "name": "python3"
  },
  "language_info": {
   "codemirror_mode": {
    "name": "ipython",
    "version": 3
   },
   "file_extension": ".py",
   "mimetype": "text/x-python",
   "name": "python",
   "nbconvert_exporter": "python",
   "pygments_lexer": "ipython3",
   "version": "3.8.5"
  }
 },
 "nbformat": 4,
 "nbformat_minor": 4
}
